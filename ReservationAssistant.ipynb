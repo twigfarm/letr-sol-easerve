{
  "cells": [
    {
      "cell_type": "code",
      "execution_count": 1,
      "metadata": {
        "colab": {
          "base_uri": "https://localhost:8080/"
        },
        "collapsed": true,
        "executionInfo": {
          "elapsed": 25731,
          "status": "ok",
          "timestamp": 1734155417968,
          "user": {
            "displayName": "김형주",
            "userId": "11979035358902441652"
          },
          "user_tz": -540
        },
        "id": "KOmPmKNRvgfe",
        "outputId": "9483752a-cd25-4d5a-a61b-b57a34d2cbf4"
      },
      "outputs": [
        {
          "name": "stdout",
          "output_type": "stream",
          "text": [
            "Requirement already satisfied: langchain_core in /Users/sunko/Library/Caches/pypoetry/virtualenvs/langgraph-agent-Ef8-rkmA-py3.11/lib/python3.11/site-packages (0.3.21)\n",
            "Requirement already satisfied: langchain_openai in /Users/sunko/Library/Caches/pypoetry/virtualenvs/langgraph-agent-Ef8-rkmA-py3.11/lib/python3.11/site-packages (0.2.11)\n",
            "Requirement already satisfied: langgraph in /Users/sunko/Library/Caches/pypoetry/virtualenvs/langgraph-agent-Ef8-rkmA-py3.11/lib/python3.11/site-packages (0.2.56)\n",
            "Requirement already satisfied: supabase in /Users/sunko/Library/Caches/pypoetry/virtualenvs/langgraph-agent-Ef8-rkmA-py3.11/lib/python3.11/site-packages (2.10.0)\n",
            "Collecting streamlit\n",
            "  Downloading streamlit-1.41.1-py2.py3-none-any.whl.metadata (8.5 kB)\n",
            "Requirement already satisfied: PyYAML>=5.3 in /Users/sunko/Library/Caches/pypoetry/virtualenvs/langgraph-agent-Ef8-rkmA-py3.11/lib/python3.11/site-packages (from langchain_core) (6.0.2)\n",
            "Requirement already satisfied: jsonpatch<2.0,>=1.33 in /Users/sunko/Library/Caches/pypoetry/virtualenvs/langgraph-agent-Ef8-rkmA-py3.11/lib/python3.11/site-packages (from langchain_core) (1.33)\n",
            "Requirement already satisfied: langsmith<0.2.0,>=0.1.125 in /Users/sunko/Library/Caches/pypoetry/virtualenvs/langgraph-agent-Ef8-rkmA-py3.11/lib/python3.11/site-packages (from langchain_core) (0.1.147)\n",
            "Requirement already satisfied: packaging<25,>=23.2 in /Users/sunko/Library/Caches/pypoetry/virtualenvs/langgraph-agent-Ef8-rkmA-py3.11/lib/python3.11/site-packages (from langchain_core) (24.2)\n",
            "Requirement already satisfied: pydantic<3.0.0,>=2.5.2 in /Users/sunko/Library/Caches/pypoetry/virtualenvs/langgraph-agent-Ef8-rkmA-py3.11/lib/python3.11/site-packages (from langchain_core) (2.10.3)\n",
            "Requirement already satisfied: tenacity!=8.4.0,<10.0.0,>=8.1.0 in /Users/sunko/Library/Caches/pypoetry/virtualenvs/langgraph-agent-Ef8-rkmA-py3.11/lib/python3.11/site-packages (from langchain_core) (8.5.0)\n",
            "Requirement already satisfied: typing-extensions>=4.7 in /Users/sunko/Library/Caches/pypoetry/virtualenvs/langgraph-agent-Ef8-rkmA-py3.11/lib/python3.11/site-packages (from langchain_core) (4.12.2)\n",
            "Requirement already satisfied: openai<2.0.0,>=1.54.0 in /Users/sunko/Library/Caches/pypoetry/virtualenvs/langgraph-agent-Ef8-rkmA-py3.11/lib/python3.11/site-packages (from langchain_openai) (1.56.2)\n",
            "Requirement already satisfied: tiktoken<1,>=0.7 in /Users/sunko/Library/Caches/pypoetry/virtualenvs/langgraph-agent-Ef8-rkmA-py3.11/lib/python3.11/site-packages (from langchain_openai) (0.8.0)\n",
            "Requirement already satisfied: langgraph-checkpoint<3.0.0,>=2.0.4 in /Users/sunko/Library/Caches/pypoetry/virtualenvs/langgraph-agent-Ef8-rkmA-py3.11/lib/python3.11/site-packages (from langgraph) (2.0.8)\n",
            "Requirement already satisfied: langgraph-sdk<0.2.0,>=0.1.42 in /Users/sunko/Library/Caches/pypoetry/virtualenvs/langgraph-agent-Ef8-rkmA-py3.11/lib/python3.11/site-packages (from langgraph) (0.1.43)\n",
            "Requirement already satisfied: gotrue<3.0.0,>=2.10.0 in /Users/sunko/Library/Caches/pypoetry/virtualenvs/langgraph-agent-Ef8-rkmA-py3.11/lib/python3.11/site-packages (from supabase) (2.11.0)\n",
            "Requirement already satisfied: httpx<0.28,>=0.26 in /Users/sunko/Library/Caches/pypoetry/virtualenvs/langgraph-agent-Ef8-rkmA-py3.11/lib/python3.11/site-packages (from supabase) (0.27.2)\n",
            "Requirement already satisfied: postgrest<0.19,>=0.18 in /Users/sunko/Library/Caches/pypoetry/virtualenvs/langgraph-agent-Ef8-rkmA-py3.11/lib/python3.11/site-packages (from supabase) (0.18.0)\n",
            "Requirement already satisfied: realtime<3.0.0,>=2.0.0 in /Users/sunko/Library/Caches/pypoetry/virtualenvs/langgraph-agent-Ef8-rkmA-py3.11/lib/python3.11/site-packages (from supabase) (2.0.6)\n",
            "Requirement already satisfied: storage3<0.10.0,>=0.9.0 in /Users/sunko/Library/Caches/pypoetry/virtualenvs/langgraph-agent-Ef8-rkmA-py3.11/lib/python3.11/site-packages (from supabase) (0.9.0)\n",
            "Requirement already satisfied: supafunc<0.8.0,>=0.7.0 in /Users/sunko/Library/Caches/pypoetry/virtualenvs/langgraph-agent-Ef8-rkmA-py3.11/lib/python3.11/site-packages (from supabase) (0.7.0)\n",
            "Collecting altair<6,>=4.0 (from streamlit)\n",
            "  Using cached altair-5.5.0-py3-none-any.whl.metadata (11 kB)\n",
            "Collecting blinker<2,>=1.0.0 (from streamlit)\n",
            "  Using cached blinker-1.9.0-py3-none-any.whl.metadata (1.6 kB)\n",
            "Requirement already satisfied: cachetools<6,>=4.0 in /Users/sunko/Library/Caches/pypoetry/virtualenvs/langgraph-agent-Ef8-rkmA-py3.11/lib/python3.11/site-packages (from streamlit) (5.5.0)\n",
            "Requirement already satisfied: click<9,>=7.0 in /Users/sunko/Library/Caches/pypoetry/virtualenvs/langgraph-agent-Ef8-rkmA-py3.11/lib/python3.11/site-packages (from streamlit) (8.1.7)\n",
            "Requirement already satisfied: numpy<3,>=1.23 in /Users/sunko/Library/Caches/pypoetry/virtualenvs/langgraph-agent-Ef8-rkmA-py3.11/lib/python3.11/site-packages (from streamlit) (1.26.4)\n",
            "Requirement already satisfied: pandas<3,>=1.4.0 in /Users/sunko/Library/Caches/pypoetry/virtualenvs/langgraph-agent-Ef8-rkmA-py3.11/lib/python3.11/site-packages (from streamlit) (2.2.3)\n",
            "Requirement already satisfied: pillow<12,>=7.1.0 in /Users/sunko/Library/Caches/pypoetry/virtualenvs/langgraph-agent-Ef8-rkmA-py3.11/lib/python3.11/site-packages (from streamlit) (10.4.0)\n",
            "Requirement already satisfied: protobuf<6,>=3.20 in /Users/sunko/Library/Caches/pypoetry/virtualenvs/langgraph-agent-Ef8-rkmA-py3.11/lib/python3.11/site-packages (from streamlit) (4.25.5)\n",
            "Collecting pyarrow>=7.0 (from streamlit)\n",
            "  Downloading pyarrow-18.1.0-cp311-cp311-macosx_12_0_arm64.whl.metadata (3.3 kB)\n",
            "Requirement already satisfied: requests<3,>=2.27 in /Users/sunko/Library/Caches/pypoetry/virtualenvs/langgraph-agent-Ef8-rkmA-py3.11/lib/python3.11/site-packages (from streamlit) (2.32.3)\n",
            "Requirement already satisfied: rich<14,>=10.14.0 in /Users/sunko/Library/Caches/pypoetry/virtualenvs/langgraph-agent-Ef8-rkmA-py3.11/lib/python3.11/site-packages (from streamlit) (13.9.4)\n",
            "Collecting toml<2,>=0.10.1 (from streamlit)\n",
            "  Using cached toml-0.10.2-py2.py3-none-any.whl.metadata (7.1 kB)\n",
            "Collecting gitpython!=3.1.19,<4,>=3.0.7 (from streamlit)\n",
            "  Using cached GitPython-3.1.43-py3-none-any.whl.metadata (13 kB)\n",
            "Collecting pydeck<1,>=0.8.0b4 (from streamlit)\n",
            "  Using cached pydeck-0.9.1-py2.py3-none-any.whl.metadata (4.1 kB)\n",
            "Requirement already satisfied: tornado<7,>=6.0.3 in /Users/sunko/Library/Caches/pypoetry/virtualenvs/langgraph-agent-Ef8-rkmA-py3.11/lib/python3.11/site-packages (from streamlit) (6.4.2)\n",
            "Requirement already satisfied: jinja2 in /Users/sunko/Library/Caches/pypoetry/virtualenvs/langgraph-agent-Ef8-rkmA-py3.11/lib/python3.11/site-packages (from altair<6,>=4.0->streamlit) (3.1.4)\n",
            "Collecting jsonschema>=3.0 (from altair<6,>=4.0->streamlit)\n",
            "  Using cached jsonschema-4.23.0-py3-none-any.whl.metadata (7.9 kB)\n",
            "Collecting narwhals>=1.14.2 (from altair<6,>=4.0->streamlit)\n",
            "  Downloading narwhals-1.18.3-py3-none-any.whl.metadata (8.3 kB)\n",
            "Collecting gitdb<5,>=4.0.1 (from gitpython!=3.1.19,<4,>=3.0.7->streamlit)\n",
            "  Using cached gitdb-4.0.11-py3-none-any.whl.metadata (1.2 kB)\n",
            "Requirement already satisfied: anyio in /Users/sunko/Library/Caches/pypoetry/virtualenvs/langgraph-agent-Ef8-rkmA-py3.11/lib/python3.11/site-packages (from httpx<0.28,>=0.26->supabase) (4.6.2.post1)\n",
            "Requirement already satisfied: certifi in /Users/sunko/Library/Caches/pypoetry/virtualenvs/langgraph-agent-Ef8-rkmA-py3.11/lib/python3.11/site-packages (from httpx<0.28,>=0.26->supabase) (2024.8.30)\n",
            "Requirement already satisfied: httpcore==1.* in /Users/sunko/Library/Caches/pypoetry/virtualenvs/langgraph-agent-Ef8-rkmA-py3.11/lib/python3.11/site-packages (from httpx<0.28,>=0.26->supabase) (1.0.7)\n",
            "Requirement already satisfied: idna in /Users/sunko/Library/Caches/pypoetry/virtualenvs/langgraph-agent-Ef8-rkmA-py3.11/lib/python3.11/site-packages (from httpx<0.28,>=0.26->supabase) (3.10)\n",
            "Requirement already satisfied: sniffio in /Users/sunko/Library/Caches/pypoetry/virtualenvs/langgraph-agent-Ef8-rkmA-py3.11/lib/python3.11/site-packages (from httpx<0.28,>=0.26->supabase) (1.3.1)\n",
            "Requirement already satisfied: h11<0.15,>=0.13 in /Users/sunko/Library/Caches/pypoetry/virtualenvs/langgraph-agent-Ef8-rkmA-py3.11/lib/python3.11/site-packages (from httpcore==1.*->httpx<0.28,>=0.26->supabase) (0.14.0)\n",
            "Requirement already satisfied: jsonpointer>=1.9 in /Users/sunko/Library/Caches/pypoetry/virtualenvs/langgraph-agent-Ef8-rkmA-py3.11/lib/python3.11/site-packages (from jsonpatch<2.0,>=1.33->langchain_core) (3.0.0)\n",
            "Requirement already satisfied: msgpack<2.0.0,>=1.1.0 in /Users/sunko/Library/Caches/pypoetry/virtualenvs/langgraph-agent-Ef8-rkmA-py3.11/lib/python3.11/site-packages (from langgraph-checkpoint<3.0.0,>=2.0.4->langgraph) (1.1.0)\n",
            "Requirement already satisfied: orjson>=3.10.1 in /Users/sunko/Library/Caches/pypoetry/virtualenvs/langgraph-agent-Ef8-rkmA-py3.11/lib/python3.11/site-packages (from langgraph-sdk<0.2.0,>=0.1.42->langgraph) (3.10.12)\n",
            "Requirement already satisfied: requests-toolbelt<2.0.0,>=1.0.0 in /Users/sunko/Library/Caches/pypoetry/virtualenvs/langgraph-agent-Ef8-rkmA-py3.11/lib/python3.11/site-packages (from langsmith<0.2.0,>=0.1.125->langchain_core) (1.0.0)\n",
            "Requirement already satisfied: distro<2,>=1.7.0 in /Users/sunko/Library/Caches/pypoetry/virtualenvs/langgraph-agent-Ef8-rkmA-py3.11/lib/python3.11/site-packages (from openai<2.0.0,>=1.54.0->langchain_openai) (1.9.0)\n",
            "Requirement already satisfied: jiter<1,>=0.4.0 in /Users/sunko/Library/Caches/pypoetry/virtualenvs/langgraph-agent-Ef8-rkmA-py3.11/lib/python3.11/site-packages (from openai<2.0.0,>=1.54.0->langchain_openai) (0.8.0)\n",
            "Requirement already satisfied: tqdm>4 in /Users/sunko/Library/Caches/pypoetry/virtualenvs/langgraph-agent-Ef8-rkmA-py3.11/lib/python3.11/site-packages (from openai<2.0.0,>=1.54.0->langchain_openai) (4.67.1)\n",
            "Requirement already satisfied: python-dateutil>=2.8.2 in /Users/sunko/Library/Caches/pypoetry/virtualenvs/langgraph-agent-Ef8-rkmA-py3.11/lib/python3.11/site-packages (from pandas<3,>=1.4.0->streamlit) (2.9.0.post0)\n",
            "Requirement already satisfied: pytz>=2020.1 in /Users/sunko/Library/Caches/pypoetry/virtualenvs/langgraph-agent-Ef8-rkmA-py3.11/lib/python3.11/site-packages (from pandas<3,>=1.4.0->streamlit) (2024.2)\n",
            "Requirement already satisfied: tzdata>=2022.7 in /Users/sunko/Library/Caches/pypoetry/virtualenvs/langgraph-agent-Ef8-rkmA-py3.11/lib/python3.11/site-packages (from pandas<3,>=1.4.0->streamlit) (2024.2)\n",
            "Requirement already satisfied: deprecation<3.0.0,>=2.1.0 in /Users/sunko/Library/Caches/pypoetry/virtualenvs/langgraph-agent-Ef8-rkmA-py3.11/lib/python3.11/site-packages (from postgrest<0.19,>=0.18->supabase) (2.1.0)\n",
            "Requirement already satisfied: annotated-types>=0.6.0 in /Users/sunko/Library/Caches/pypoetry/virtualenvs/langgraph-agent-Ef8-rkmA-py3.11/lib/python3.11/site-packages (from pydantic<3.0.0,>=2.5.2->langchain_core) (0.7.0)\n",
            "Requirement already satisfied: pydantic-core==2.27.1 in /Users/sunko/Library/Caches/pypoetry/virtualenvs/langgraph-agent-Ef8-rkmA-py3.11/lib/python3.11/site-packages (from pydantic<3.0.0,>=2.5.2->langchain_core) (2.27.1)\n",
            "Requirement already satisfied: aiohttp<4.0.0,>=3.10.10 in /Users/sunko/Library/Caches/pypoetry/virtualenvs/langgraph-agent-Ef8-rkmA-py3.11/lib/python3.11/site-packages (from realtime<3.0.0,>=2.0.0->supabase) (3.11.9)\n",
            "Requirement already satisfied: websockets<14,>=11 in /Users/sunko/Library/Caches/pypoetry/virtualenvs/langgraph-agent-Ef8-rkmA-py3.11/lib/python3.11/site-packages (from realtime<3.0.0,>=2.0.0->supabase) (12.0)\n",
            "Requirement already satisfied: charset-normalizer<4,>=2 in /Users/sunko/Library/Caches/pypoetry/virtualenvs/langgraph-agent-Ef8-rkmA-py3.11/lib/python3.11/site-packages (from requests<3,>=2.27->streamlit) (3.4.0)\n",
            "Requirement already satisfied: urllib3<3,>=1.21.1 in /Users/sunko/Library/Caches/pypoetry/virtualenvs/langgraph-agent-Ef8-rkmA-py3.11/lib/python3.11/site-packages (from requests<3,>=2.27->streamlit) (2.2.3)\n",
            "Requirement already satisfied: markdown-it-py>=2.2.0 in /Users/sunko/Library/Caches/pypoetry/virtualenvs/langgraph-agent-Ef8-rkmA-py3.11/lib/python3.11/site-packages (from rich<14,>=10.14.0->streamlit) (3.0.0)\n",
            "Requirement already satisfied: pygments<3.0.0,>=2.13.0 in /Users/sunko/Library/Caches/pypoetry/virtualenvs/langgraph-agent-Ef8-rkmA-py3.11/lib/python3.11/site-packages (from rich<14,>=10.14.0->streamlit) (2.18.0)\n",
            "Requirement already satisfied: regex>=2022.1.18 in /Users/sunko/Library/Caches/pypoetry/virtualenvs/langgraph-agent-Ef8-rkmA-py3.11/lib/python3.11/site-packages (from tiktoken<1,>=0.7->langchain_openai) (2024.11.6)\n",
            "Requirement already satisfied: aiohappyeyeballs>=2.3.0 in /Users/sunko/Library/Caches/pypoetry/virtualenvs/langgraph-agent-Ef8-rkmA-py3.11/lib/python3.11/site-packages (from aiohttp<4.0.0,>=3.10.10->realtime<3.0.0,>=2.0.0->supabase) (2.4.4)\n",
            "Requirement already satisfied: aiosignal>=1.1.2 in /Users/sunko/Library/Caches/pypoetry/virtualenvs/langgraph-agent-Ef8-rkmA-py3.11/lib/python3.11/site-packages (from aiohttp<4.0.0,>=3.10.10->realtime<3.0.0,>=2.0.0->supabase) (1.3.1)\n",
            "Requirement already satisfied: attrs>=17.3.0 in /Users/sunko/Library/Caches/pypoetry/virtualenvs/langgraph-agent-Ef8-rkmA-py3.11/lib/python3.11/site-packages (from aiohttp<4.0.0,>=3.10.10->realtime<3.0.0,>=2.0.0->supabase) (24.2.0)\n",
            "Requirement already satisfied: frozenlist>=1.1.1 in /Users/sunko/Library/Caches/pypoetry/virtualenvs/langgraph-agent-Ef8-rkmA-py3.11/lib/python3.11/site-packages (from aiohttp<4.0.0,>=3.10.10->realtime<3.0.0,>=2.0.0->supabase) (1.5.0)\n",
            "Requirement already satisfied: multidict<7.0,>=4.5 in /Users/sunko/Library/Caches/pypoetry/virtualenvs/langgraph-agent-Ef8-rkmA-py3.11/lib/python3.11/site-packages (from aiohttp<4.0.0,>=3.10.10->realtime<3.0.0,>=2.0.0->supabase) (6.1.0)\n",
            "Requirement already satisfied: propcache>=0.2.0 in /Users/sunko/Library/Caches/pypoetry/virtualenvs/langgraph-agent-Ef8-rkmA-py3.11/lib/python3.11/site-packages (from aiohttp<4.0.0,>=3.10.10->realtime<3.0.0,>=2.0.0->supabase) (0.2.1)\n",
            "Requirement already satisfied: yarl<2.0,>=1.17.0 in /Users/sunko/Library/Caches/pypoetry/virtualenvs/langgraph-agent-Ef8-rkmA-py3.11/lib/python3.11/site-packages (from aiohttp<4.0.0,>=3.10.10->realtime<3.0.0,>=2.0.0->supabase) (1.18.3)\n",
            "Collecting smmap<6,>=3.0.1 (from gitdb<5,>=4.0.1->gitpython!=3.1.19,<4,>=3.0.7->streamlit)\n",
            "  Using cached smmap-5.0.1-py3-none-any.whl.metadata (4.3 kB)\n",
            "Requirement already satisfied: h2<5,>=3 in /Users/sunko/Library/Caches/pypoetry/virtualenvs/langgraph-agent-Ef8-rkmA-py3.11/lib/python3.11/site-packages (from httpx[http2]<0.28,>=0.26->gotrue<3.0.0,>=2.10.0->supabase) (4.1.0)\n",
            "Requirement already satisfied: MarkupSafe>=2.0 in /Users/sunko/Library/Caches/pypoetry/virtualenvs/langgraph-agent-Ef8-rkmA-py3.11/lib/python3.11/site-packages (from jinja2->altair<6,>=4.0->streamlit) (2.1.5)\n",
            "Collecting jsonschema-specifications>=2023.03.6 (from jsonschema>=3.0->altair<6,>=4.0->streamlit)\n",
            "  Using cached jsonschema_specifications-2024.10.1-py3-none-any.whl.metadata (3.0 kB)\n",
            "Collecting referencing>=0.28.4 (from jsonschema>=3.0->altair<6,>=4.0->streamlit)\n",
            "  Using cached referencing-0.35.1-py3-none-any.whl.metadata (2.8 kB)\n",
            "Collecting rpds-py>=0.7.1 (from jsonschema>=3.0->altair<6,>=4.0->streamlit)\n",
            "  Downloading rpds_py-0.22.3-cp311-cp311-macosx_11_0_arm64.whl.metadata (4.2 kB)\n",
            "Requirement already satisfied: mdurl~=0.1 in /Users/sunko/Library/Caches/pypoetry/virtualenvs/langgraph-agent-Ef8-rkmA-py3.11/lib/python3.11/site-packages (from markdown-it-py>=2.2.0->rich<14,>=10.14.0->streamlit) (0.1.2)\n",
            "Requirement already satisfied: six>=1.5 in /Users/sunko/Library/Caches/pypoetry/virtualenvs/langgraph-agent-Ef8-rkmA-py3.11/lib/python3.11/site-packages (from python-dateutil>=2.8.2->pandas<3,>=1.4.0->streamlit) (1.17.0)\n",
            "Requirement already satisfied: hyperframe<7,>=6.0 in /Users/sunko/Library/Caches/pypoetry/virtualenvs/langgraph-agent-Ef8-rkmA-py3.11/lib/python3.11/site-packages (from h2<5,>=3->httpx[http2]<0.28,>=0.26->gotrue<3.0.0,>=2.10.0->supabase) (6.0.1)\n",
            "Requirement already satisfied: hpack<5,>=4.0 in /Users/sunko/Library/Caches/pypoetry/virtualenvs/langgraph-agent-Ef8-rkmA-py3.11/lib/python3.11/site-packages (from h2<5,>=3->httpx[http2]<0.28,>=0.26->gotrue<3.0.0,>=2.10.0->supabase) (4.0.0)\n",
            "Downloading streamlit-1.41.1-py2.py3-none-any.whl (9.1 MB)\n",
            "\u001b[2K   \u001b[90m━━━━━━━━━━━━━━━━━━━━━━━━━━━━━━━━━━━━━━━━\u001b[0m \u001b[32m9.1/9.1 MB\u001b[0m \u001b[31m49.6 MB/s\u001b[0m eta \u001b[36m0:00:00\u001b[0m00:01\u001b[0m00:01\u001b[0m\n",
            "\u001b[?25hUsing cached altair-5.5.0-py3-none-any.whl (731 kB)\n",
            "Using cached blinker-1.9.0-py3-none-any.whl (8.5 kB)\n",
            "Using cached GitPython-3.1.43-py3-none-any.whl (207 kB)\n",
            "Downloading pyarrow-18.1.0-cp311-cp311-macosx_12_0_arm64.whl (29.6 MB)\n",
            "\u001b[2K   \u001b[90m━━━━━━━━━━━━━━━━━━━━━━━━━━━━━━━━━━━━━━━━\u001b[0m \u001b[32m29.6/29.6 MB\u001b[0m \u001b[31m50.1 MB/s\u001b[0m eta \u001b[36m0:00:00\u001b[0m00:01\u001b[0m00:01\u001b[0m\n",
            "\u001b[?25hUsing cached pydeck-0.9.1-py2.py3-none-any.whl (6.9 MB)\n",
            "Using cached toml-0.10.2-py2.py3-none-any.whl (16 kB)\n",
            "Using cached gitdb-4.0.11-py3-none-any.whl (62 kB)\n",
            "Using cached jsonschema-4.23.0-py3-none-any.whl (88 kB)\n",
            "Downloading narwhals-1.18.3-py3-none-any.whl (250 kB)\n",
            "\u001b[2K   \u001b[90m━━━━━━━━━━━━━━━━━━━━━━━━━━━━━━━━━━━━━━━━\u001b[0m \u001b[32m250.3/250.3 kB\u001b[0m \u001b[31m14.0 MB/s\u001b[0m eta \u001b[36m0:00:00\u001b[0m\n",
            "\u001b[?25hUsing cached jsonschema_specifications-2024.10.1-py3-none-any.whl (18 kB)\n",
            "Using cached referencing-0.35.1-py3-none-any.whl (26 kB)\n",
            "Downloading rpds_py-0.22.3-cp311-cp311-macosx_11_0_arm64.whl (349 kB)\n",
            "\u001b[2K   \u001b[90m━━━━━━━━━━━━━━━━━━━━━━━━━━━━━━━━━━━━━━━━\u001b[0m \u001b[32m349.2/349.2 kB\u001b[0m \u001b[31m25.6 MB/s\u001b[0m eta \u001b[36m0:00:00\u001b[0m\n",
            "\u001b[?25hUsing cached smmap-5.0.1-py3-none-any.whl (24 kB)\n",
            "Installing collected packages: toml, smmap, rpds-py, pyarrow, narwhals, blinker, referencing, pydeck, gitdb, jsonschema-specifications, gitpython, jsonschema, altair, streamlit\n",
            "Successfully installed altair-5.5.0 blinker-1.9.0 gitdb-4.0.11 gitpython-3.1.43 jsonschema-4.23.0 jsonschema-specifications-2024.10.1 narwhals-1.18.3 pyarrow-18.1.0 pydeck-0.9.1 referencing-0.35.1 rpds-py-0.22.3 smmap-5.0.1 streamlit-1.41.1 toml-0.10.2\n",
            "\n",
            "\u001b[1m[\u001b[0m\u001b[34;49mnotice\u001b[0m\u001b[1;39;49m]\u001b[0m\u001b[39;49m A new release of pip is available: \u001b[0m\u001b[31;49m24.0\u001b[0m\u001b[39;49m -> \u001b[0m\u001b[32;49m24.3.1\u001b[0m\n",
            "\u001b[1m[\u001b[0m\u001b[34;49mnotice\u001b[0m\u001b[1;39;49m]\u001b[0m\u001b[39;49m To update, run: \u001b[0m\u001b[32;49mpip install --upgrade pip\u001b[0m\n"
          ]
        }
      ],
      "source": [
        "!pip install langchain_core langchain_openai langgraph supabase streamlit"
      ]
    },
    {
      "cell_type": "code",
      "execution_count": 2,
      "metadata": {
        "id": "Ej2CMGjKPZbP"
      },
      "outputs": [],
      "source": [
        "# RPC\n",
        "def get_reservations_by_phone(phone: str) -> dict:\n",
        "    response = supabase.rpc(\"get_reservations_by_phone\", {\"phone_number\": phone}).execute()\n",
        "    # ret = json.loads(response.data)\n",
        "    # return ret\n",
        "    return response.data\n",
        "\n",
        "def update_reservation_date(\n",
        "    reservation_uuid: str, new_date: str\n",
        ") :\n",
        "    response = supabase.rpc(\"update_reservation_date\", {\"reservation_uuid\": reservation_uuid, \"new_reservation_date\": new_date}).execute()\n",
        "    return \"reservation successfully updated\"\n",
        "\n",
        "def cancel_reservation(reservation_uuid: str) -> dict:\n",
        "    response = supabase.rpc(\"cancel_reservation\", {\"reservation_uuid\": reservation_uuid}).execute()\n",
        "    return \"reservation successfully cancelled\""
      ]
    },
    {
      "cell_type": "code",
      "execution_count": 3,
      "metadata": {
        "id": "xuPSNdGkv3A0"
      },
      "outputs": [],
      "source": [
        "# Annotated: TypedHinting + 메타데이터 첨부\n",
        "from typing import Annotated\n",
        "from typing_extensions import TypedDict\n",
        "\n",
        "# add_messages: 두개의 메시지 리스트 합병. id 가 같을 시 덮어씀\n",
        "# AnyMessage: All messages like AIMessage, HumanMessage, ToolMessage ...\n",
        "from langgraph.graph.message import add_messages, AnyMessage\n",
        "\n",
        "class ReservState(TypedDict):\n",
        "    messages: Annotated[list[AnyMessage], add_messages]\n",
        "    user_info: str"
      ]
    },
    {
      "cell_type": "code",
      "execution_count": 4,
      "metadata": {
        "id": "Z3xv1e36wABe"
      },
      "outputs": [],
      "source": [
        "# pydantic: parsing library, 출력 모델의 유형과 제약 조건 보장\n",
        "from pydantic import BaseModel, Field\n",
        "\n",
        "class RequestAssistance(BaseModel):\n",
        "    \"\"\"\n",
        "    Escalate the conversation to an expert. Use this if you are unable to assist directly or if the user requires support beyond your permissions.\n",
        "    To use this function, relay the user's 'request' so the expert can provide the right guidance.\n",
        "    \"\"\"\n",
        "    request: str"
      ]
    },
    {
      "cell_type": "code",
      "execution_count": 5,
      "metadata": {
        "id": "b4WwWsKI_8mf"
      },
      "outputs": [],
      "source": [
        "# utils\n",
        "from langchain_core.runnables import RunnableLambda\n",
        "from langchain_core.messages import ToolMessage\n",
        "from langgraph.prebuilt import ToolNode\n",
        "\n",
        "def handle_tool_error(state) -> dict:\n",
        "  error = state.get(\"error\")\n",
        "  tool_calls = state[\"messages\"][-1].tool_calls\n",
        "  return {\n",
        "    \"messages\": [\n",
        "      ToolMessage(\n",
        "        content=f\"Error: {repr(error)}\\n please fix your mistakes.\",\n",
        "        tool_call_id=tc[\"id\"],\n",
        "      )\n",
        "      for tc in tool_calls\n",
        "    ]\n",
        "  }\n",
        "\n",
        "def create_tool_node_with_fallback(tools: list) -> dict:\n",
        "  # ToolNode: 도구를 실행하는 노드\n",
        "  # with_fallbacks: 예외처리\n",
        "  return ToolNode(tools).with_fallbacks(\n",
        "      [RunnableLambda(handle_tool_error)], exception_key=\"error\"\n",
        "  )\n",
        "\n",
        "def _print_event(event: dict, _printed: set, max_length=1500):\n",
        "  current_state = event.get(\"dialog_state\")\n",
        "  if current_state:\n",
        "    print(\"Currently in: \", current_state[-1])\n",
        "  message = event.get(\"messages\")\n",
        "  if message:\n",
        "    if isinstance(message, list):\n",
        "      message = message[-1]\n",
        "    if message.id not in _printed:\n",
        "      msg_repr = message.pretty_repr(html=True)\n",
        "      if len(msg_repr) > max_length:\n",
        "        msg_repr = msg_repr[:max_length] + \" ... (truncated)\"\n",
        "      print(msg_repr)\n",
        "      _printed.add(message.id)"
      ]
    },
    {
      "cell_type": "code",
      "execution_count": 6,
      "metadata": {
        "id": "SLixOcy98Z_v"
      },
      "outputs": [],
      "source": [
        "from langchain_core.runnables import RunnableConfig\n",
        "from langchain.tools import tool\n",
        "\n",
        "@tool\n",
        "def fetch_user_info(config: RunnableConfig) -> list[dict]:\n",
        "  \"\"\"Fetch all user info using RunnableConfig\"\"\"\n",
        "  configuration = config.get(\"configurable\", {})\n",
        "  phone_number = configuration.get(\"phone_number\", None)\n",
        "  if not phone_number:\n",
        "    raise ValueError(\"No phone number configured.\")\n",
        "\n",
        "  return []"
      ]
    },
    {
      "cell_type": "code",
      "execution_count": 7,
      "metadata": {
        "colab": {
          "base_uri": "https://localhost:8080/"
        },
        "executionInfo": {
          "elapsed": 3,
          "status": "ok",
          "timestamp": 1734155424855,
          "user": {
            "displayName": "김형주",
            "userId": "11979035358902441652"
          },
          "user_tz": -540
        },
        "id": "JfeNVbCnwZAi",
        "outputId": "ee367a9a-6347-40a0-9e05-32805cba6a99"
      },
      "outputs": [
        {
          "name": "stdout",
          "output_type": "stream",
          "text": [
            "3\n"
          ]
        }
      ],
      "source": [
        "from langchain.tools import Tool\n",
        "\n",
        "# Tool to get reservations by phone\n",
        "search_reservation = Tool(\n",
        "    name=\"GetReservationsByPhone\",\n",
        "    func=lambda phone: get_reservations_by_phone(phone),\n",
        "    description=(\n",
        "        \"Retrieve reservations based on a phone number. \"\n",
        "        \"Input: a phone number as a string. Output: reservation details.\"\n",
        "    )\n",
        ")\n",
        "\n",
        "# Tool to update reservation date\n",
        "update_reservation = Tool(\n",
        "    name=\"UpdateReservationDate\",\n",
        "    func=lambda reservation_uuid, new_date: update_reservation_date(reservation_uuid, new_date),\n",
        "    description=(\n",
        "        \"Update the date of an existing reservation. \"\n",
        "        \"Input: reservation_uuid (str), new_date (str in format YYYY-MM-DD). \"\n",
        "        \"Output: Success message.\"\n",
        "    )\n",
        ")\n",
        "\n",
        "# Tool to cancel a reservation\n",
        "delete_reservation = Tool(\n",
        "    name=\"CancelReservation\",\n",
        "    func=lambda reservation_uuid: cancel_reservation(reservation_uuid),\n",
        "    description=(\n",
        "        \"Cancel an existing reservation based on its UUID. \"\n",
        "        \"Input: reservation_uuid (str). Output: Success message.\"\n",
        "    )\n",
        ")\n",
        "\n",
        "primary_safe_tools = [search_reservation]\n",
        "primary_sensitive_tools = [update_reservation, delete_reservation]\n",
        "primary_sensitive_tool_names = {t.name for t in primary_sensitive_tools}\n",
        "\n",
        "tools = primary_safe_tools + primary_sensitive_tools\n",
        "print(len(tools))"
      ]
    },
    {
      "cell_type": "code",
      "execution_count": 8,
      "metadata": {
        "id": "4d03SqW1QRO6"
      },
      "outputs": [],
      "source": [
        "from langchain.tools import Tool\n",
        "\n",
        "# Tool to get reservations by phone\n",
        "search_reservation = Tool(\n",
        "    name=\"GetReservationsByPhone\",\n",
        "    func=lambda phone: get_reservations_by_phone(phone),\n",
        "    description=(\n",
        "        \"Retrieve reservations based on a phone number. \"\n",
        "        \"phone number is get from config: configurable: phone_number\"\n",
        "        \"Input: a phone number as a string. Output: reservation details.\"\n",
        "        \"if reservation data is empty stop find resercation data\"\n",
        "    )\n",
        ")\n",
        "\n",
        "# Tool to update reservation date\n",
        "update_reservation = Tool(\n",
        "    name=\"UpdateReservationDate\",\n",
        "    func=lambda reservation_uuid, new_date: update_reservation_date(reservation_uuid, new_date),\n",
        "    description=(\n",
        "        \"Update the date of an existing reservation. \"\n",
        "        \"Input: reservation_uuid (str), new_date (str in format YYYY-MM-DD). \"\n",
        "        \"Output: Success message.\"\n",
        "    )\n",
        ")\n",
        "\n",
        "# Tool to cancel a reservation\n",
        "delete_reservation = Tool(\n",
        "    name=\"CancelReservation\",\n",
        "    func=lambda reservation_uuid: cancel_reservation(reservation_uuid),\n",
        "    description=(\n",
        "        \"Cancel an existing reservation based on its UUID. \"\n",
        "        \"Input: reservation_uuid (str). Output: Success message.\"\n",
        "    )\n",
        ")"
      ]
    },
    {
      "cell_type": "code",
      "execution_count": 9,
      "metadata": {
        "id": "FQ527Dklx9Dl"
      },
      "outputs": [],
      "source": [
        "from langchain_core.runnables import Runnable, RunnableConfig\n",
        "\n",
        "class Assistant:\n",
        "  def __init__(self, runnable: Runnable):\n",
        "    self.runnable = runnable\n",
        "\n",
        "  def __call__(self, state: ReservState, config: RunnableConfig):\n",
        "    while True:\n",
        "      result = self.runnable.invoke(state, config=config)\n",
        "\n",
        "      if not result.tool_calls and (\n",
        "          not result.content\n",
        "          or isinstance(result.content, list)\n",
        "          # 설명 필요\n",
        "          and not result.content[0].get(\"text\")\n",
        "      ):\n",
        "        messages = state[\"messages\"] + [(\"user\", \"Respond with a real output.\")]\n",
        "        state = {**state, \"messages\": messages}\n",
        "      else:\n",
        "        break\n",
        "    return {\"messages\": result}"
      ]
    },
    {
      "cell_type": "code",
      "execution_count": 10,
      "metadata": {
        "id": "n4fkZN_azoHY"
      },
      "outputs": [],
      "source": [
        "from langchain_openai import ChatOpenAI\n",
        "from langchain_core.prompts import ChatPromptTemplate\n",
        "\n",
        "from datetime import date, datetime\n",
        "\n",
        "llm = ChatOpenAI(model=\"gpt-4o-mini\", temperature=1)\n",
        "\n",
        "# 현재를 기준으로 실시간 답변을 지원하기 위해 datetime.now를 partial로 부분적 받음\n",
        "assistant_prompt = ChatPromptTemplate.from_messages(\n",
        "    [\n",
        "        (\n",
        "            \"system\",\n",
        "            \"You are a helpful customer support assistant for Reservation Service. \"\n",
        "            \" Use the provided tools to search reservations, add reservation, update reservation and delete reservation\"\n",
        "            \" When searching, be persistent. Expand your query bounds if the first search returns no results. \"\n",
        "            \" If a search comes up empty, expand your search before giving up.\"\n",
        "            \"\\n\\nCurrent user:\\n<User>\\n{user_info}\\n</User>\"\n",
        "            \"\\nCurrent time: {time}.\",\n",
        "        ),\n",
        "        (\"placeholder\", \"{messages}\"),\n",
        "    ]\n",
        ").partial(time=datetime.now)\n",
        "\n",
        "assistant_runnable = assistant_prompt | llm.bind_tools(tools)\n"
      ]
    },
    {
      "cell_type": "code",
      "execution_count": 11,
      "metadata": {
        "id": "yWvMPkGH4aSI"
      },
      "outputs": [],
      "source": [
        "from re import M\n",
        "from typing import Literal\n",
        "\n",
        "from langgraph.checkpoint.memory import MemorySaver\n",
        "from langgraph.graph import StateGraph, START, END\n",
        "from langgraph.prebuilt import tools_condition\n",
        "\n",
        "builder = StateGraph(ReservState)\n",
        "\n",
        "# user_info 실행, Config 객체가 비어있으면?\n",
        "def user_info(state: ReservState):\n",
        "  return {\"user_info\": fetch_user_info.invoke({})}\n",
        "\n",
        "builder.add_node(\"fetch_user_info\", user_info)\n",
        "builder.add_node(\"assistant\", Assistant(assistant_runnable))\n",
        "builder.add_node(\"primary_safe_tools\", create_tool_node_with_fallback(primary_safe_tools))\n",
        "builder.add_node(\"primary_sensitive_tools\", create_tool_node_with_fallback(primary_sensitive_tools))\n",
        "\n",
        "builder.add_edge(START, \"fetch_user_info\")\n",
        "builder.add_edge(\"fetch_user_info\", \"assistant\")\n",
        "\n",
        "def route_tools(state: ReservState):\n",
        "  next_node = tools_condition(state)\n",
        "  if next_node == END:\n",
        "    return END\n",
        "  ai_message = state[\"messages\"][-1]\n",
        "\n",
        "  first_tool_call = ai_message.tool_calls[0]\n",
        "  if first_tool_call[\"name\"] in primary_sensitive_tool_names:\n",
        "    return \"primary_sensitive_tools\"\n",
        "  return \"primary_safe_tools\"\n",
        "\n",
        "builder.add_conditional_edges(\n",
        "  \"assistant\", route_tools, [\"primary_safe_tools\", \"primary_sensitive_tools\", END]\n",
        ")\n",
        "builder.add_edge(\"primary_safe_tools\", \"assistant\")\n",
        "builder.add_edge(\"primary_sensitive_tools\", \"assistant\")\n",
        "\n",
        "memory = MemorySaver()\n",
        "graph = builder.compile(\n",
        "    checkpointer=memory,\n",
        "    interrupt_before=[\"primary_sensitive_tools\"],\n",
        ")\n"
      ]
    },
    {
      "cell_type": "code",
      "execution_count": 14,
      "metadata": {},
      "outputs": [
        {
          "data": {
            "image/png": "[encoded data removed]",
            "text/plain": [
              "<IPython.core.display.Image object>"
            ]
          },
          "metadata": {},
          "output_type": "display_data"
        }
      ],
      "source": [
        "from IPython.display import Image, display\n",
        "\n",
        "try:\n",
        "    display(Image(graph.get_graph().draw_mermaid_png()))\n",
        "except Exception:\n",
        "    # This requires some extra dependencies and is optional\n",
        "    pass"
      ]
    },
    {
      "cell_type": "code",
      "execution_count": 12,
      "metadata": {
        "id": "zkrP3mnOY9jx"
      },
      "outputs": [],
      "source": [
        "import uuid\n",
        "\n",
        "thread_id = str(uuid.uuid4())\n",
        "\n",
        "config = {\n",
        "  \"configurable\": {\n",
        "    \"phone_number\": \"\",\n",
        "    \"thread_id\": thread_id\n",
        "  }\n",
        "}"
      ]
    },
    {
      "cell_type": "markdown",
      "metadata": {
        "id": "lBqStqbqubUM"
      },
      "source": [
        "### 1. 예약 검색, 수정, 삭제 신뢰성 있게 구현하기\n",
        "### 2. 사용자 정보 미리 받고 tool들과 내용 겹치지 않도록 하기\n",
        "### 3. config 활용 방법 생각하기"
      ]
    },
    {
      "cell_type": "code",
      "execution_count": 13,
      "metadata": {
        "colab": {
          "base_uri": "https://localhost:8080/",
          "height": 1000
        },
        "executionInfo": {
          "elapsed": 63941,
          "status": "error",
          "timestamp": 1734155491737,
          "user": {
            "displayName": "김형주",
            "userId": "11979035358902441652"
          },
          "user_tz": -540
        },
        "id": "Hib2YmjTGGIu",
        "outputId": "d9dcf22d-2325-4c1b-9f12-52f8445b185b"
      },
      "outputs": [
        {
          "name": "stdout",
          "output_type": "stream",
          "text": [
            "{'configurable': {'phone_number': 'ㅂ', 'thread_id': '7c832103-5997-4d90-809a-dc07c90c6f74'}}\n"
          ]
        }
      ],
      "source": [
        "\n",
        "def get_first_user_info():\n",
        "  if config[\"configurable\"][\"phone_number\"] != None:\n",
        "    config[\"configurable\"][\"phone_number\"] = input(\"Plz Enter your phone number: \")\n",
        "\n",
        "get_first_user_info()\n",
        "\n",
        "print(config)\n",
        "\n",
        "while True:\n",
        "  question = input(\"Hello! Enter the question: \")\n",
        "\n",
        "  if question in ['q']:\n",
        "    break\n",
        "  _printed = set()\n",
        "\n",
        "  events = graph.stream(\n",
        "      {\"messages\": (\"user\", question)}, config, stream_mode=\"values\"\n",
        "  )\n",
        "  for event in events:\n",
        "    _print_event(event, _printed)\n",
        "\n",
        "  snapshot = graph.get_state(config)\n",
        "\n",
        "  while snapshot.next:\n",
        "    try:\n",
        "      user_input = input(\n",
        "          \"다음의 행동에 동의하십니까? 동의하시면 'y'를 입력해주세요.\"\n",
        "          \"만약 동의하지 않는다면 다른 답변을 입력해주시기 바랍니다.\\n\\n\"\n",
        "      )\n",
        "    except:\n",
        "      user_input='y'\n",
        "    if user_input.strip() == 'y':\n",
        "      result = graph.invoke(\n",
        "          None,\n",
        "          config,\n",
        "      )\n",
        "    else:\n",
        "      result = graph.invoke(\n",
        "        {\n",
        "          \"messages\": [\n",
        "            ToolMessage(\n",
        "              tool_call_id=event[\"messages\"][-1].tool_calls[0][\"id\"],\n",
        "              content=f\"API call denied by user. Reasoning: '{user_input}'. Continue assisting, accounting for the user's input.\",\n",
        "            )\n",
        "          ]\n",
        "        },\n",
        "        config,\n",
        "      )\n",
        "    snapshot = graph.get_state(config)\n",
        "\n"
      ]
    },
    {
      "cell_type": "code",
      "execution_count": null,
      "metadata": {
        "id": "1p8enQ1y_g8q"
      },
      "outputs": [],
      "source": [
        "from IPython.display import Image, display\n",
        "\n",
        "try:\n",
        "  display(Image(graph.get_graph(xray=True).draw_mermaid_png()))\n",
        "except Exception:\n",
        "  # This requires some extra dependencies and is optional\n",
        "  pass"
      ]
    }
  ],
  "metadata": {
    "colab": {
      "provenance": []
    },
    "kernelspec": {
      "display_name": "langgraph-agent-Ef8-rkmA-py3.11",
      "language": "python",
      "name": "python3"
    },
    "language_info": {
      "codemirror_mode": {
        "name": "ipython",
        "version": 3
      },
      "file_extension": ".py",
      "mimetype": "text/x-python",
      "name": "python",
      "nbconvert_exporter": "python",
      "pygments_lexer": "ipython3",
      "version": "3.11.10"
    }
  },
  "nbformat": 4,
  "nbformat_minor": 0
}
